{
  "nbformat": 4,
  "nbformat_minor": 0,
  "metadata": {
    "colab": {
      "provenance": [],
      "authorship_tag": "ABX9TyNeraGaE7E5dohZUj8skEyX",
      "include_colab_link": true
    },
    "kernelspec": {
      "name": "python3",
      "display_name": "Python 3"
    },
    "language_info": {
      "name": "python"
    }
  },
  "cells": [
    {
      "cell_type": "markdown",
      "metadata": {
        "id": "view-in-github",
        "colab_type": "text"
      },
      "source": [
        "<a href=\"https://colab.research.google.com/github/hoath101/assingment-6/blob/main/06_Build_Compose_and_Decorate_A_Complete_Traditional_OOP_Practice_Series.ipynb\" target=\"_parent\"><img src=\"https://colab.research.google.com/assets/colab-badge.svg\" alt=\"Open In Colab\"/></a>"
      ]
    },
    {
      "cell_type": "markdown",
      "source": [
        "1. Using self\n"
      ],
      "metadata": {
        "id": "R62_uExABzxs"
      }
    },
    {
      "cell_type": "code",
      "source": [
        "class Student:\n",
        "    def __init__(self, name, marks):\n",
        "        self.name = name\n",
        "        self.marks = marks\n",
        "\n",
        "    def display(self):\n",
        "        print(f\"Name: {self.name}\")\n",
        "        print(f\"Marks: {self.marks}\")\n",
        "\n",
        "student1 = Student(\"Hammad\", 90)\n",
        "student1.display()"
      ],
      "metadata": {
        "id": "1qQl3B3DB31Z"
      },
      "execution_count": null,
      "outputs": []
    },
    {
      "cell_type": "markdown",
      "source": [
        "2. Using cls\n"
      ],
      "metadata": {
        "id": "EfyL5H6bEXIy"
      }
    },
    {
      "cell_type": "code",
      "source": [
        "class Counter():\n",
        "    count = 0\n",
        "    def __init__(self):\n",
        "        Counter.count += 1\n",
        "    @classmethod\n",
        "    def get_count(cls):\n",
        "        return cls.count\n",
        "\n",
        "a = Counter()\n",
        "b = Counter()\n",
        "\n",
        "print(\"Number of Counter objects created:\", Counter.get_count())"
      ],
      "metadata": {
        "id": "F0JcxEQhEa_H"
      },
      "execution_count": null,
      "outputs": []
    },
    {
      "cell_type": "markdown",
      "source": [
        "3. Public variables and methods"
      ],
      "metadata": {
        "id": "wKFxxDepFFRi"
      }
    },
    {
      "cell_type": "code",
      "source": [
        "class Car():\n",
        "    def __init__(self, brand):\n",
        "        self.brand = brand\n",
        "\n",
        "    def start(self):\n",
        "        print(f\"The {self.brand} car has started.\")\n",
        "\n",
        "my_car = Car(\"Toyota\")\n",
        "\n",
        "print(\"Car Brand:\", my_car.brand)\n",
        "\n",
        "my_car.start()"
      ],
      "metadata": {
        "id": "BrTbkWf7FMnq"
      },
      "execution_count": null,
      "outputs": []
    },
    {
      "cell_type": "markdown",
      "source": [
        "4. Class Variables and Class Methods"
      ],
      "metadata": {
        "id": "wQtZvVPcH0UQ"
      }
    },
    {
      "cell_type": "code",
      "source": [
        "class Bank():\n",
        "    bank_name = \"HBL\"\n",
        "\n",
        "    def __init__(self, account_holder):\n",
        "        self.account_holder = account_holder\n",
        "\n",
        "    def show_details(self):\n",
        "        print(f\"Account Holder: {self.account_holder}\")\n",
        "        print(f\"Bank Name: {Bank.bank_name}\")\n",
        "\n",
        "    @classmethod\n",
        "    def change_bank_name(cls, name):\n",
        "        cls.bank_name = name\n",
        "\n",
        "customer1 = Bank(\"Ali\")\n",
        "customer2 = Bank(\"Usman\")\n",
        "\n",
        "print(\"Before changing bank name:\")\n",
        "customer1.show_details()\n",
        "customer2.show_details()\n",
        "\n",
        "Bank.change_bank_name(\"UBL\")\n",
        "\n",
        "print(\"\\nAfter changing bank name:\")\n",
        "customer1.show_details()\n",
        "customer2.show_details()"
      ],
      "metadata": {
        "id": "IUG6u8VeH1f0"
      },
      "execution_count": null,
      "outputs": []
    },
    {
      "cell_type": "markdown",
      "source": [
        "5. Static Variables and Static Methods"
      ],
      "metadata": {
        "id": "hTTAgMjZJCmb"
      }
    },
    {
      "cell_type": "code",
      "source": [
        "class MathUtils():\n",
        "    @staticmethod\n",
        "    def add(a, b):\n",
        "        return a + b\n",
        "\n",
        "result = MathUtils.add(10, 5)\n",
        "print(\"Sum:\", result)"
      ],
      "metadata": {
        "id": "KW56PPLaJD78"
      },
      "execution_count": null,
      "outputs": []
    },
    {
      "cell_type": "markdown",
      "source": [
        "6. Constructors and Destructors"
      ],
      "metadata": {
        "id": "B1lO4eAAJd8Q"
      }
    },
    {
      "cell_type": "code",
      "source": [
        "class Logger():\n",
        "    def __init__(self):\n",
        "        print(\"Logger object has been created.\")\n",
        "\n",
        "    def __del__(self):\n",
        "        print(\"Logger object has been destroyed.\")\n",
        "\n",
        "log = Logger()\n",
        "\n",
        "del log"
      ],
      "metadata": {
        "id": "Uc6AvilEJfJG"
      },
      "execution_count": null,
      "outputs": []
    },
    {
      "cell_type": "markdown",
      "source": [
        "7. Access Modifiers: Public, Private, and Protected"
      ],
      "metadata": {
        "id": "ceHjcfWyJ2sL"
      }
    },
    {
      "cell_type": "code",
      "source": [
        "class Employee():\n",
        "    def __init__(self, name, salary, ssn):\n",
        "        self.name = name        # Public variable\n",
        "        self._salary = salary   # Protected variable\n",
        "        self.__ssn = ssn        # Private variable\n",
        "\n",
        "    def show_info(self):\n",
        "        print(f\"Name: {self.name}\")\n",
        "        print(f\"Salary: {self._salary}\")\n",
        "        print(f\"SSN: {self.__ssn}\")\n",
        "\n",
        "emp = Employee(\"Alice\", 70000, \"123-45-6789\")\n",
        "\n",
        "print(\"Public access to name:\", emp.name)\n",
        "\n",
        "print(\"Protected access to _salary:\", emp._salary)\n",
        "\n",
        "try:\n",
        "    print(\"Private access to __ssn:\", emp.__ssn)\n",
        "except AttributeError as e:\n",
        "    print(\"Private access to __ssn failed:\", e)\n",
        "\n",
        "print(\"Private access using name mangling:\", emp._Employee__ssn)"
      ],
      "metadata": {
        "colab": {
          "base_uri": "https://localhost:8080/"
        },
        "id": "nEFGiMijJ3qv",
        "outputId": "3c279ea5-f3df-4893-b253-9c0f3dbde761"
      },
      "execution_count": 34,
      "outputs": [
        {
          "output_type": "stream",
          "name": "stdout",
          "text": [
            "Public access to name: Alice\n",
            "Protected access to _salary: 70000\n",
            "Private access to __ssn failed: 'Employee' object has no attribute '__ssn'\n",
            "Private access using name mangling: 123-45-6789\n"
          ]
        }
      ]
    },
    {
      "cell_type": "markdown",
      "source": [
        "8. The super() Function"
      ],
      "metadata": {
        "id": "PkFdgKrVKvz0"
      }
    },
    {
      "cell_type": "code",
      "source": [
        "class Person():\n",
        "  def __init__(self,name):\n",
        "    self.name = name\n",
        "\n",
        "class Teacher(Person):\n",
        "  def __init__(self,name,subject):\n",
        "    super().__init__(name)\n",
        "    self.subject = subject"
      ],
      "metadata": {
        "id": "KAETWskZKzc-"
      },
      "execution_count": null,
      "outputs": []
    },
    {
      "cell_type": "markdown",
      "source": [
        "9. Abstract Classes and Methods"
      ],
      "metadata": {
        "id": "Vd9GR_IXLmof"
      }
    },
    {
      "cell_type": "code",
      "source": [
        "from abc import ABC, abstractmethod\n",
        "\n",
        "class Shape(ABC):\n",
        "    @abstractmethod\n",
        "    def area(self):\n",
        "        pass\n",
        "\n",
        "class Rectangle(Shape):\n",
        "    def __init__(self, width, height):\n",
        "        self.width = width\n",
        "        self.height = height\n",
        "\n",
        "    def area(self):\n",
        "        return self.width * self.height\n",
        "\n",
        "rect = Rectangle(10, 5)\n",
        "print(\"Area of rectangle:\", rect.area())"
      ],
      "metadata": {
        "id": "8RR2luWVLnt3"
      },
      "execution_count": null,
      "outputs": []
    },
    {
      "cell_type": "markdown",
      "source": [
        "10. Instance Methods"
      ],
      "metadata": {
        "id": "uvUt4rIPUVAG"
      }
    },
    {
      "cell_type": "code",
      "source": [
        "class Dog():\n",
        "    def __init__(self, name, breed):\n",
        "        self.name = name\n",
        "        self.breed = breed\n",
        "\n",
        "    def bark(self):\n",
        "        print(f\"{self.name} says: Woof! Woof!\")\n",
        "\n",
        "dog1 = Dog(\"Spike\",\"Bull Dog\")\n",
        "dog1.bark()"
      ],
      "metadata": {
        "id": "ex3QYxu2UakQ"
      },
      "execution_count": null,
      "outputs": []
    },
    {
      "cell_type": "markdown",
      "source": [
        "11. Class Methods"
      ],
      "metadata": {
        "id": "EsfHd1i-U4Ol"
      }
    },
    {
      "cell_type": "code",
      "source": [
        "class Book():\n",
        "    total_books = 0\n",
        "\n",
        "    def __init__(self, title, author):\n",
        "        self.title = title\n",
        "        self.author = author\n",
        "        Book.increment_book_count()\n",
        "\n",
        "    @classmethod\n",
        "    def increment_book_count(cls):\n",
        "        cls.total_books += 1\n",
        "\n",
        "    @classmethod\n",
        "    def get_total_books(cls):\n",
        "        return cls.total_books\n",
        "\n",
        "b1 = Book(\"1984\", \"George Orwell\")\n",
        "b2 = Book(\"To Kill a Mockingbird\", \"Harper Lee\")\n",
        "b3 = Book(\"The Great Gatsby\", \"F. Scott Fitzgerald\")\n",
        "\n",
        "print(\"Total books:\", Book.get_total_books())"
      ],
      "metadata": {
        "id": "qJ3FcDm3U5F_"
      },
      "execution_count": null,
      "outputs": []
    },
    {
      "cell_type": "markdown",
      "source": [
        "12. Static Methods"
      ],
      "metadata": {
        "id": "rIOL8FxzVroX"
      }
    },
    {
      "cell_type": "code",
      "source": [
        "class TemperatureConverter:\n",
        "    @staticmethod\n",
        "    def celsius_to_fahrenheit(c):\n",
        "        return (c * 9/5) + 32\n",
        "\n",
        "celsius_temp = 25\n",
        "fahrenheit_temp = TemperatureConverter.celsius_to_fahrenheit(celsius_temp)\n",
        "print(f\"{celsius_temp}°C = {fahrenheit_temp}°F\")"
      ],
      "metadata": {
        "id": "Ziu52Qi1Vsck"
      },
      "execution_count": null,
      "outputs": []
    },
    {
      "cell_type": "markdown",
      "source": [
        "13. Composition"
      ],
      "metadata": {
        "id": "tvCkrVeaWNiv"
      }
    },
    {
      "cell_type": "code",
      "source": [
        "class Engine():\n",
        "  def start(self):\n",
        "    print(\"Engine started.\")\n",
        "\n",
        "class Car():\n",
        "  def __init__(self):\n",
        "    self.engine = Engine()\n",
        "\n",
        "my_car = Car()\n",
        "my_car.engine.start()"
      ],
      "metadata": {
        "id": "_5DE35AzWOcZ"
      },
      "execution_count": null,
      "outputs": []
    },
    {
      "cell_type": "markdown",
      "source": [
        "14. Aggregation"
      ],
      "metadata": {
        "id": "RNPkajC2XTrW"
      }
    },
    {
      "cell_type": "code",
      "source": [
        "class Employee():\n",
        "    def __init__(self, name, emp_id):\n",
        "        self.name = name\n",
        "        self.emp_id = emp_id\n",
        "\n",
        "    def show_employee(self):\n",
        "        print(f\"Employee Name: {self.name}, ID: {self.emp_id}\")\n",
        "\n",
        "\n",
        "class Department():\n",
        "    def __init__(self, dept_name, employee):\n",
        "        self.dept_name = dept_name\n",
        "        self.employee = employee\n",
        "\n",
        "    def show_department(self):\n",
        "        print(f\"Department: {self.dept_name}\")\n",
        "        self.employee.show_employee()\n",
        "\n",
        "emp1 = Employee(\"Ali\", 101)\n",
        "dept = Department(\"HR\", emp1)\n",
        "\n",
        "dept.show_department()"
      ],
      "metadata": {
        "id": "ScPXBlQRXUvI"
      },
      "execution_count": null,
      "outputs": []
    },
    {
      "cell_type": "markdown",
      "source": [
        "15. Method Resolution Order (MRO) and Diamond Inheritance"
      ],
      "metadata": {
        "id": "ZAwTr7RHYbTB"
      }
    },
    {
      "cell_type": "code",
      "source": [
        "class A():\n",
        "    def show(self):\n",
        "        print(\"Hi from class A\")\n",
        "\n",
        "class B(A):\n",
        "    def show(self):\n",
        "        print(\"Hi from class B\")\n",
        "\n",
        "class C(A):\n",
        "    def show(self):\n",
        "        print(\"Hi from class C\")\n",
        "\n",
        "class D(B, C):\n",
        "    pass\n",
        "\n",
        "d = D()\n",
        "d.show()"
      ],
      "metadata": {
        "id": "KvbLVrtsYcHU"
      },
      "execution_count": null,
      "outputs": []
    },
    {
      "cell_type": "markdown",
      "source": [
        "16. Function Decorators"
      ],
      "metadata": {
        "id": "AWOnDHQLZLG2"
      }
    },
    {
      "cell_type": "code",
      "source": [
        "def log_function_call(func):\n",
        "    def wrapper(*args, **kwargs):\n",
        "        print(\"Function is being called\")\n",
        "        return func(*args, **kwargs)\n",
        "    return wrapper\n",
        "\n",
        "@log_function_call\n",
        "def say_hello():\n",
        "    print(\"Hello!\")\n",
        "\n",
        "say_hello()"
      ],
      "metadata": {
        "id": "T0iUClFVZL9-"
      },
      "execution_count": null,
      "outputs": []
    },
    {
      "cell_type": "markdown",
      "source": [
        "17. Class Decorators"
      ],
      "metadata": {
        "id": "NuNdxmEyZiNY"
      }
    },
    {
      "cell_type": "code",
      "source": [
        "def add_greeting(cls):\n",
        "    def greet(self):\n",
        "        return \"Hello from Decorator!\"\n",
        "    cls.greet = greet\n",
        "    return cls\n",
        "\n",
        "@add_greeting\n",
        "class Person:\n",
        "    def __init__(self, name):\n",
        "        self.name = name\n",
        "\n",
        "person = Person(\"Usman\")\n",
        "print(person.greet())"
      ],
      "metadata": {
        "id": "KXdx-0w5ZnNW"
      },
      "execution_count": null,
      "outputs": []
    },
    {
      "cell_type": "markdown",
      "source": [
        "18. Property Decorators: @property, @setter, and @deleter"
      ],
      "metadata": {
        "id": "V1vlD2t-aVcG"
      }
    },
    {
      "cell_type": "code",
      "source": [
        "class Product():\n",
        "    def __init__(self, price):\n",
        "        self._price = price\n",
        "\n",
        "    @property\n",
        "    def price(self):\n",
        "        print(\"Getting price...\")\n",
        "        return self._price\n",
        "\n",
        "    @price.setter\n",
        "    def price(self, value):\n",
        "        if value < 0:\n",
        "            raise ValueError(\"Price cannot be negative.\")\n",
        "        print(\"Setting price...\")\n",
        "        self._price = value\n",
        "\n",
        "    @price.deleter\n",
        "    def price(self):\n",
        "        print(\"Deleting price...\")\n",
        "        del self._price\n",
        "\n",
        "product = Product(100)\n",
        "print(product.price)\n",
        "product.price = 150\n",
        "print(product.price)\n",
        "del product.price"
      ],
      "metadata": {
        "id": "yEPnriQMaWm1"
      },
      "execution_count": null,
      "outputs": []
    },
    {
      "cell_type": "markdown",
      "source": [
        "19. Callable() and __call__()"
      ],
      "metadata": {
        "id": "NzbSYOQibRcu"
      }
    },
    {
      "cell_type": "code",
      "source": [
        "class Multiplier():\n",
        "    def __init__(self, factor):\n",
        "        self.factor = factor\n",
        "\n",
        "    def __call__(self, value):\n",
        "        return value * self.factor\n",
        "\n",
        "double = Multiplier(2)\n",
        "\n",
        "print(\"Is 'double' callable?\", callable(double))\n",
        "\n",
        "result = double(10)\n",
        "print(\"double(10) =\", result)"
      ],
      "metadata": {
        "id": "B-SNxCtWbSeu"
      },
      "execution_count": null,
      "outputs": []
    },
    {
      "cell_type": "markdown",
      "source": [
        "20. Creating a Custom Exception"
      ],
      "metadata": {
        "id": "T6oUfGmwcRng"
      }
    },
    {
      "cell_type": "code",
      "source": [
        "class InvalidAgeError(Exception):\n",
        "    pass\n",
        "\n",
        "def check_age(age):\n",
        "    if age < 18:\n",
        "        raise InvalidAgeError(\"Age must be at least 18.\")\n",
        "    print(\"Age is valid.\")\n",
        "\n",
        "try:\n",
        "    check_age(16)\n",
        "except InvalidAgeError as e:\n",
        "    print(f\"Caught an exception: {e}\")"
      ],
      "metadata": {
        "id": "q5robbp3cSvE"
      },
      "execution_count": null,
      "outputs": []
    },
    {
      "cell_type": "markdown",
      "source": [
        "21. Make a Custom Class Iterable"
      ],
      "metadata": {
        "id": "a51pQK7acutg"
      }
    },
    {
      "cell_type": "code",
      "source": [
        "class Countdown:\n",
        "    def __init__(self, start):\n",
        "        self.current = start\n",
        "\n",
        "    def __iter__(self):\n",
        "        return self\n",
        "\n",
        "    def __next__(self):\n",
        "        if self.current < 0:\n",
        "            raise StopIteration\n",
        "        value = self.current\n",
        "        self.current -= 1\n",
        "        return value\n",
        "\n",
        "for number in Countdown(5):\n",
        "    print(number)"
      ],
      "metadata": {
        "id": "wsDZZmYfcwHU"
      },
      "execution_count": null,
      "outputs": []
    }
  ]
}